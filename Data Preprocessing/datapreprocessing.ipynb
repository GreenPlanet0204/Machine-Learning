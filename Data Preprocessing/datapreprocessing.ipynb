{
 "cells": [
  {
   "cell_type": "code",
   "execution_count": 183,
   "metadata": {},
   "outputs": [],
   "source": [
    "# import the library\n",
    "import numpy as np\n",
    "import pandas as pd\n",
    "%matplotlib inline\n",
    "import matplotlib.pyplot as plt"
   ]
  },
  {
   "cell_type": "code",
   "execution_count": 184,
   "metadata": {},
   "outputs": [],
   "source": [
    "# import the dataset\n",
    "dataset = pd.read_csv(\"dataset.csv\")"
   ]
  },
  {
   "cell_type": "code",
   "execution_count": 185,
   "metadata": {},
   "outputs": [
    {
     "data": {
      "text/plain": [
       "array([['India', 38.0, 68000.0],\n",
       "       ['France', 43.0, 45000.0],\n",
       "       ['Germany', 30.0, 54000.0],\n",
       "       ['France', 48.0, 65000.0],\n",
       "       ['Germany', 40.0, nan],\n",
       "       ['India', 35.0, 58000.0],\n",
       "       ['Germany', nan, 53000.0],\n",
       "       ['France', 49.0, 79000.0],\n",
       "       ['India', 50.0, 88000.0],\n",
       "       ['France', 37.0, 77000.0]], dtype=object)"
      ]
     },
     "execution_count": 185,
     "metadata": {},
     "output_type": "execute_result"
    }
   ],
   "source": [
    "# extract the independent variable\n",
    "x = dataset.iloc[:, :-1].values\n",
    "x"
   ]
  },
  {
   "cell_type": "code",
   "execution_count": 186,
   "metadata": {},
   "outputs": [
    {
     "data": {
      "text/plain": [
       "0     No\n",
       "1    Yes\n",
       "2     No\n",
       "3     No\n",
       "4    Yes\n",
       "5    Yes\n",
       "6     No\n",
       "7    Yes\n",
       "8     No\n",
       "9    Yes\n",
       "Name: Purchased, dtype: object"
      ]
     },
     "execution_count": 186,
     "metadata": {},
     "output_type": "execute_result"
    }
   ],
   "source": [
    "# extract the dependent variable\n",
    "y = dataset.iloc[:, 3]\n",
    "y"
   ]
  },
  {
   "cell_type": "code",
   "execution_count": 195,
   "metadata": {},
   "outputs": [
    {
     "data": {
      "text/plain": [
       "array([[0.0, 0.0, 1.0, 38.0, 68000.0],\n",
       "       [1.0, 0.0, 0.0, 43.0, 45000.0],\n",
       "       [0.0, 1.0, 0.0, 30.0, 54000.0],\n",
       "       [1.0, 0.0, 0.0, 48.0, 65000.0],\n",
       "       [0.0, 1.0, 0.0, 40.0, 65222.22222222222],\n",
       "       [0.0, 0.0, 1.0, 35.0, 58000.0],\n",
       "       [0.0, 1.0, 0.0, 41.111111111111114, 53000.0],\n",
       "       [1.0, 0.0, 0.0, 49.0, 79000.0],\n",
       "       [0.0, 0.0, 1.0, 50.0, 88000.0],\n",
       "       [1.0, 0.0, 0.0, 37.0, 77000.0]], dtype=object)"
      ]
     },
     "execution_count": 195,
     "metadata": {},
     "output_type": "execute_result"
    }
   ],
   "source": [
    "# handling missing data (replace missing data with mean value)\n",
    "from sklearn.impute import SimpleImputer\n",
    "\n",
    "imputer = SimpleImputer(strategy='mean')\n",
    "imputer = imputer.fit(x[:, 1:3]) # fit imputer object to the independent variables x\n",
    "x[:, 1:3] = imputer.transform(x[:, 1:3]) # Replace missing data with the calculated mean value\n",
    "x"
   ]
  },
  {
   "cell_type": "code",
   "execution_count": 188,
   "metadata": {},
   "outputs": [
    {
     "data": {
      "text/plain": [
       "array([[2, 38.0, 68000.0],\n",
       "       [0, 43.0, 45000.0],\n",
       "       [1, 30.0, 54000.0],\n",
       "       [0, 48.0, 65000.0],\n",
       "       [1, 40.0, 65222.22222222222],\n",
       "       [2, 35.0, 58000.0],\n",
       "       [1, 41.111111111111114, 53000.0],\n",
       "       [0, 49.0, 79000.0],\n",
       "       [2, 50.0, 88000.0],\n",
       "       [0, 37.0, 77000.0]], dtype=object)"
      ]
     },
     "execution_count": 188,
     "metadata": {},
     "output_type": "execute_result"
    }
   ],
   "source": [
    "# categorical data for country variable\n",
    "from sklearn.preprocessing import LabelEncoder, OneHotEncoder\n",
    "from sklearn.compose import ColumnTransformer\n",
    "\n",
    "label_encoder_x = LabelEncoder()\n",
    "x[:, 0] = label_encoder_x.fit_transform(x[:, 0])\n",
    "x"
   ]
  },
  {
   "cell_type": "code",
   "execution_count": 189,
   "metadata": {},
   "outputs": [
    {
     "data": {
      "text/plain": [
       "array([[0.0, 0.0, 1.0, 38.0, 68000.0],\n",
       "       [1.0, 0.0, 0.0, 43.0, 45000.0],\n",
       "       [0.0, 1.0, 0.0, 30.0, 54000.0],\n",
       "       [1.0, 0.0, 0.0, 48.0, 65000.0],\n",
       "       [0.0, 1.0, 0.0, 40.0, 65222.22222222222],\n",
       "       [0.0, 0.0, 1.0, 35.0, 58000.0],\n",
       "       [0.0, 1.0, 0.0, 41.111111111111114, 53000.0],\n",
       "       [1.0, 0.0, 0.0, 49.0, 79000.0],\n",
       "       [0.0, 0.0, 1.0, 50.0, 88000.0],\n",
       "       [1.0, 0.0, 0.0, 37.0, 77000.0]], dtype=object)"
      ]
     },
     "execution_count": 189,
     "metadata": {},
     "output_type": "execute_result"
    }
   ],
   "source": [
    "# encode for dummy variables\n",
    "onehot_encoder = ColumnTransformer([(\"Country\", OneHotEncoder(), [0])], remainder=\"passthrough\")\n",
    "x = onehot_encoder.fit_transform(x)\n",
    "x"
   ]
  },
  {
   "cell_type": "code",
   "execution_count": 190,
   "metadata": {},
   "outputs": [],
   "source": [
    "# encoding for purchased variable\n",
    "label_encoder_y = LabelEncoder()\n",
    "y = label_encoder_y.fit_transform(y)"
   ]
  },
  {
   "cell_type": "code",
   "execution_count": 196,
   "metadata": {},
   "outputs": [],
   "source": [
    "# Split the dataset into train and test set\n",
    "from sklearn.model_selection import train_test_split\n",
    "\n",
    "x_train, x_test, y_train, y_test = train_test_split(x, y, test_size=0.2, random_state=0)"
   ]
  },
  {
   "cell_type": "code",
   "execution_count": 197,
   "metadata": {},
   "outputs": [],
   "source": [
    "# Feature scaling of datasets\n",
    "from sklearn.preprocessing import StandardScaler\n",
    "\n",
    "st_x = StandardScaler()\n",
    "x_train = st_x.fit_transform(x_train)\n",
    "x_test = st_x.transform(x_test)"
   ]
  },
  {
   "cell_type": "code",
   "execution_count": 198,
   "metadata": {},
   "outputs": [
    {
     "data": {
      "text/plain": [
       "array([[-1.        ,  1.73205081, -0.57735027, -0.29460737,  0.1339619 ],\n",
       "       [ 1.        , -0.57735027, -0.57735027, -0.93095928,  1.22626663],\n",
       "       [ 1.        , -0.57735027, -0.57735027,  0.34174455, -1.74150472],\n",
       "       [-1.        ,  1.73205081, -0.57735027, -0.05892147, -0.99956188],\n",
       "       [ 1.        , -0.57735027, -0.57735027,  1.61444837,  1.41175234],\n",
       "       [ 1.        , -0.57735027, -0.57735027,  1.40233107,  0.11335238],\n",
       "       [-1.        , -0.57735027,  1.73205081, -0.71884198,  0.39158094],\n",
       "       [-1.        , -0.57735027,  1.73205081, -1.35519389, -0.5358476 ]])"
      ]
     },
     "execution_count": 198,
     "metadata": {},
     "output_type": "execute_result"
    }
   ],
   "source": [
    "x_train"
   ]
  },
  {
   "cell_type": "code",
   "execution_count": 199,
   "metadata": {},
   "outputs": [
    {
     "data": {
      "text/plain": [
       "array([[-1.        ,  1.73205081, -0.57735027, -2.41578041, -0.90681902],\n",
       "       [-1.        , -0.57735027,  1.73205081,  1.82656568,  2.24643804]])"
      ]
     },
     "execution_count": 199,
     "metadata": {},
     "output_type": "execute_result"
    }
   ],
   "source": [
    "x_test"
   ]
  }
 ],
 "metadata": {
  "kernelspec": {
   "display_name": "Python 3",
   "language": "python",
   "name": "python3"
  },
  "language_info": {
   "codemirror_mode": {
    "name": "ipython",
    "version": 3
   },
   "file_extension": ".py",
   "mimetype": "text/x-python",
   "name": "python",
   "nbconvert_exporter": "python",
   "pygments_lexer": "ipython3",
   "version": "3.11.1 (tags/v3.11.1:a7a450f, Dec  6 2022, 19:58:39) [MSC v.1934 64 bit (AMD64)]"
  },
  "orig_nbformat": 4,
  "vscode": {
   "interpreter": {
    "hash": "2685a941435d1085da276dfc690a6906a78a811ce15fddaad786b2b9325f36c0"
   }
  }
 },
 "nbformat": 4,
 "nbformat_minor": 2
}
